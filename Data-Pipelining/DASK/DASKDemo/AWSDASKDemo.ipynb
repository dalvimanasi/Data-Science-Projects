{
 "cells": [
  {
   "cell_type": "code",
   "execution_count": null,
   "metadata": {
    "collapsed": false
   },
   "outputs": [],
   "source": [
    "from s3fs import S3FileSystem\n",
    "\n",
    "s3 = S3FileSystem(anon=True)\n",
    "s3.ls('dask-data/nyc-taxi/2015/')"
   ]
  },
  {
   "cell_type": "code",
   "execution_count": null,
   "metadata": {
    "collapsed": false
   },
   "outputs": [],
   "source": [
    "import pandas as pd\n",
    "import numpy as np\n",
    "def loadNYC1(xd):\n",
    "    with s3.open(xd) as f:\n",
    "        xd = pd.read_csv(f, parse_dates=['tpep_pickup_datetime', 'tpep_dropoff_datetime'])\n",
    "    return xd"
   ]
  },
  {
   "cell_type": "code",
   "execution_count": null,
   "metadata": {
    "collapsed": true
   },
   "outputs": [],
   "source": [
    "import pandas as pd\n",
    "import numpy as np\n",
    "def loadNYC2(xd):\n",
    "    with s3.open(xd) as f:\n",
    "        xd = pd.read_csv(f, parse_dates=['tpep_pickup_datetime', 'tpep_dropoff_datetime'])\n",
    "    return xd"
   ]
  },
  {
   "cell_type": "code",
   "execution_count": null,
   "metadata": {
    "collapsed": false
   },
   "outputs": [],
   "source": [
    "def loadAPIData(queryString):\n",
    "    query = (queryString)\n",
    "    return pd.read_json(query)"
   ]
  },
  {
   "cell_type": "code",
   "execution_count": null,
   "metadata": {
    "collapsed": true
   },
   "outputs": [],
   "source": [
    "import numpy as np\n",
    "def retMean(datfram,field):\n",
    "    return np.mean(datfram[field])"
   ]
  },
  {
   "cell_type": "code",
   "execution_count": null,
   "metadata": {
    "collapsed": true
   },
   "outputs": [],
   "source": [
    "def add(x,y):\n",
    "    return x + y"
   ]
  },
  {
   "cell_type": "code",
   "execution_count": null,
   "metadata": {
    "collapsed": false
   },
   "outputs": [],
   "source": [
    "dskTask = {\n",
    "    'query1':\"dask-data/nyc-taxi/2015/yellow_tripdata_2015-01.csv\",\n",
    "    'field1':\"trip_distance\",\n",
    "    'query2':\"dask-data/nyc-taxi/2015/yellow_tripdata_2015-08.csv\",\n",
    "    'field2':\"trip_distance\",\n",
    "    'loadNYC1':(loadNYC1,'query1'),\n",
    "    'loadNYC2':(loadNYC2,'query2'),\n",
    "    'meanNYC':(retMean,'loadNYC1','field1'),\n",
    "    'meanFinalPermit':(retMean,'loadNYC2','field2'),\n",
    "    'sum':(add,'meanNYC','meanFinalPermit')\n",
    "}\n",
    "dskTask"
   ]
  },
  {
   "cell_type": "code",
   "execution_count": null,
   "metadata": {
    "collapsed": false,
    "scrolled": false
   },
   "outputs": [],
   "source": [
    "from dask.dot import dot_graph\n",
    "dot_graph(dskTask)"
   ]
  },
  {
   "cell_type": "code",
   "execution_count": null,
   "metadata": {
    "collapsed": false
   },
   "outputs": [],
   "source": [
    "from dask.distributed import Client\n",
    "c = Client('52.207.129.175:8786')\n",
    "c.get(dskTask,'sum')"
   ]
  },
  {
   "cell_type": "code",
   "execution_count": null,
   "metadata": {
    "collapsed": true
   },
   "outputs": [],
   "source": [
    "c.shutdown()"
   ]
  }
 ],
 "metadata": {
  "anaconda-cloud": {},
  "kernelspec": {
   "display_name": "Python 3",
   "language": "python",
   "name": "python3"
  },
  "language_info": {
   "codemirror_mode": {
    "name": "ipython",
    "version": 3
   },
   "file_extension": ".py",
   "mimetype": "text/x-python",
   "name": "python",
   "nbconvert_exporter": "python",
   "pygments_lexer": "ipython3",
   "version": "3.6.0"
  }
 },
 "nbformat": 4,
 "nbformat_minor": 1
}
